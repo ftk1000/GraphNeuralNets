{
  "nbformat": 4,
  "nbformat_minor": 0,
  "metadata": {
    "colab": {
      "name": "parameter_dashboard.ipynb",
      "provenance": [],
      "authorship_tag": "ABX9TyOMzNRrGIiJCRPwPbD3kF5D",
      "include_colab_link": true
    },
    "kernelspec": {
      "name": "python3",
      "display_name": "Python 3"
    },
    "accelerator": "GPU"
  },
  "cells": [
    {
      "cell_type": "markdown",
      "metadata": {
        "id": "view-in-github",
        "colab_type": "text"
      },
      "source": [
        "<a href=\"https://colab.research.google.com/github/ftk1000/GraphNeuralNets/blob/main/parameter_dashboard.ipynb\" target=\"_parent\"><img src=\"https://colab.research.google.com/assets/colab-badge.svg\" alt=\"Open In Colab\"/></a>"
      ]
    },
    {
      "cell_type": "markdown",
      "metadata": {
        "id": "Wu1n1WGuumMK"
      },
      "source": [
        "# Parameter Selection Dash board\n",
        "2020.10.23"
      ]
    },
    {
      "cell_type": "code",
      "metadata": {
        "id": "qcvWc4I13nz-"
      },
      "source": [
        "import easydict\n",
        "import numpy as np\n",
        "from tqdm import tqdm\n",
        "import tensorflow as tf"
      ],
      "execution_count": 4,
      "outputs": []
    },
    {
      "cell_type": "code",
      "metadata": {
        "id": "KHwpMpKj3u6r",
        "outputId": "6858df29-62e7-4a85-fd31-6dfc5fb886e9",
        "colab": {
          "base_uri": "https://localhost:8080/",
          "height": 51
        }
      },
      "source": [
        "print(tf.__version__)\n",
        "print(np.__version__)"
      ],
      "execution_count": 5,
      "outputs": [
        {
          "output_type": "stream",
          "text": [
            "2.3.0\n",
            "1.18.5\n"
          ],
          "name": "stdout"
        }
      ]
    },
    {
      "cell_type": "code",
      "metadata": {
        "id": "4OdzVVT63yuf",
        "outputId": "4177bc2c-aac9-4ae3-b16f-8bc375368144",
        "colab": {
          "base_uri": "https://localhost:8080/",
          "height": 34
        }
      },
      "source": [
        "# Check current py versionb\n",
        "# https://stackoverflow.com/questions/40694528/how-to-know-which-is-running-in-jupyter-notebook\n",
        "from platform import python_version\n",
        "print(python_version())"
      ],
      "execution_count": 6,
      "outputs": [
        {
          "output_type": "stream",
          "text": [
            "3.6.9\n"
          ],
          "name": "stdout"
        }
      ]
    },
    {
      "cell_type": "code",
      "metadata": {
        "id": "920nXEIIvxWJ",
        "outputId": "c82591a1-c6d9-4a32-a7dd-dd1d81a0adca",
        "colab": {
          "base_uri": "https://localhost:8080/",
          "height": 34
        }
      },
      "source": [
        "import keras\n",
        "print(keras.__version__)"
      ],
      "execution_count": 7,
      "outputs": [
        {
          "output_type": "stream",
          "text": [
            "2.4.3\n"
          ],
          "name": "stdout"
        }
      ]
    },
    {
      "cell_type": "markdown",
      "metadata": {
        "id": "C6lByMG_uhCt"
      },
      "source": [
        ""
      ]
    },
    {
      "cell_type": "code",
      "metadata": {
        "id": "tLxSzrBGwF4n"
      },
      "source": [
        "#@title ### Choosing parameters for this Colaboratory runtime  { form-width: \"60%\", run: \"auto\"}\n",
        "#@markdown <br>Connect to a local or hosted Colaboratory runtime by clicking the **Connect** button at the top-right.\n",
        "#@markdown ---\n",
        "#@markdown For all configurations, **5 GNN layers** (including the input layer) are applied, and all **MLPs have 2 layers**.\n",
        "#@markdown The hyper-parameters the **authors** tuned for each dataset are:\n",
        "#@markdown 1. the number of hidden units ∈ {16, 32} for bioinformatics graphs and 64 for social graphs\n",
        "#@markdown 2. the batch size ∈ {32, 128}\n",
        "#@markdown 3. the dropout ratio ∈ {0, 0.5} after the dense layer (Srivastava et al., 2014)\n",
        "#@markdown 4. the number of epochs, i.e., a single epoch with the best cross-validation accuracy averaged over the 10 folds was selected\n",
        "#@markdown The **authors'** reported training accuracy were on the following fixed hyper-parameters:\n",
        "#@markdown 5 GNN layers (including the input layer), hidden units of size 64, minibatch of size 128, and 0.5 dropout ratio\n",
        "#@markdown ---\n",
        "\n",
        "Dataset = \"REDDITBINARY\"  #@param [\"MUTAG\", \"COLLAB\", \"IMDBMULTI\",\"NCI1\",\"PTC\",\"REDDITMULTI5K\",\"IMDBBINARY\" ,\"PROTEINS\" , \"REDDITBINARY\"]\n",
        "Batch_Size = 64 #@param {type:\"slider\", min:1, max:1000, step:1}\n",
        "Iterations_Per_Epoch = 50 #@param {type:\"slider\", min:1, max:1000, step:1}\n",
        "Epochs = 350 #@param {type:\"slider\", min:1, max:1000, step:1}\n",
        "Learning_Rate = 0.01 #@param {type:\"slider\", min:0, max:1, step:0.0001}\n",
        "Seed = 0 #@param {type:\"slider\", min:0, max:10, step:1}\n",
        "Fold_idx = 0 #@param [\"0\", \"1\", \"2\", \"3\", \"4\", \"5\", \"6\", \"7\", \"8\", \"9\"] {type:\"raw\", allow-input: true}\n",
        "Num_Layers = 5 #@param {type:\"slider\", min:1, max:10, step:1}\n",
        "Num_MLP_Layers = 2 #@param {type:\"slider\", min:1, max:10, step:1}\n",
        "Hidden_dim = 64 #@param {type:\"slider\", min:1, max:300, step:1}\n",
        "Final_dropout = 0.5 #@param {type:\"slider\", min:0, max:1, step:0.01}\n",
        "Graph_Pooling_Type = \"sum\"  #@param [\"sum\", \"mean\", \"average\"]\n",
        "Neighbor_Pooling_Type = \"sum\"  #@param [\"sum\", \"mean\", \"average\",\"max\"]\n",
        "Learn_Epsilon = \"True\"  #@param [\"True\", \"False\"]\n",
        "Degree_as_tag = \"True\"  #@param [\"True\", \"False\"]\n",
        "File_Name = \"output.txt\" #@param {type:\"string\"}\n",
        "\n",
        "\n",
        "\n",
        "\n",
        "\n",
        "args = easydict.EasyDict({\n",
        "    \"dataset\": Dataset,\n",
        "    \"batch_size\": Batch_Size,\n",
        "    \"iters_per_epoch\": Iterations_Per_Epoch,\n",
        "    \"epochs\": Epochs,\n",
        "    \"lr\": Learning_Rate,\n",
        "    \"seed\": Seed,\n",
        "    \"fold_idx\": Fold_idx,\n",
        "    \"num_layers\": Num_Layers,\n",
        "    \"num_mlp_layers\": Num_MLP_Layers,\n",
        "    \"hidden_dim\": Hidden_dim,\n",
        "    \"final_dropout\": Final_dropout,\n",
        "    \"graph_pooling_type\": Graph_Pooling_Type,\n",
        "    \"neighbor_pooling_type\": Neighbor_Pooling_Type,\n",
        "    \"learn_eps\": Learn_Epsilon,\n",
        "    'degree_as_tag': Degree_as_tag,\n",
        "    'filename': File_Name\n",
        "    \n",
        "})\n",
        "\n",
        "\n",
        "\n"
      ],
      "execution_count": 8,
      "outputs": []
    },
    {
      "cell_type": "code",
      "metadata": {
        "id": "6LavR7tAwGtF"
      },
      "source": [
        ""
      ],
      "execution_count": null,
      "outputs": []
    }
  ]
}