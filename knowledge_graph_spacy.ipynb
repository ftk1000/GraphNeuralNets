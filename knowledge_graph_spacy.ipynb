{
  "nbformat": 4,
  "nbformat_minor": 0,
  "metadata": {
    "colab": {
      "name": "knowledge_graph_spacy.ipynb",
      "provenance": [],
      "authorship_tag": "ABX9TyOa0ksG9t/yddsHMpSm0+Nj",
      "include_colab_link": true
    },
    "kernelspec": {
      "name": "python3",
      "display_name": "Python 3"
    },
    "accelerator": "GPU"
  },
  "cells": [
    {
      "cell_type": "markdown",
      "metadata": {
        "id": "view-in-github",
        "colab_type": "text"
      },
      "source": [
        "<a href=\"https://colab.research.google.com/github/ftk1000/GraphNeuralNets/blob/main/knowledge_graph_spacy.ipynb\" target=\"_parent\"><img src=\"https://colab.research.google.com/assets/colab-badge.svg\" alt=\"Open In Colab\"/></a>"
      ]
    },
    {
      "cell_type": "markdown",
      "metadata": {
        "id": "LP6z0XB9cv6E"
      },
      "source": [
        "# how-to-build-knowledge-graph-text-using-spacy\n",
        "\n",
        "knowledge_graph_spacy.ipynb\n",
        "\n",
        "2011.11.07\n",
        "\n",
        "https://www.analyticsvidhya.com/blog/2019/10/how-to-build-knowledge-graph-text-using-spacy/"
      ]
    },
    {
      "cell_type": "code",
      "metadata": {
        "id": "QHbgwiaJcqq3",
        "outputId": "2da31040-ce81-4c5d-b5ed-7f4eebd55ba1",
        "colab": {
          "base_uri": "https://localhost:8080/"
        }
      },
      "source": [
        "import spacy\n",
        "nlp = spacy.load('en_core_web_sm')\n",
        "\n",
        "doc = nlp(\"The 22-year-old recently won ATP Challenger tournament.\")\n",
        "\n",
        "for tok in doc:\n",
        "  print(tok.text, \"...\", tok.dep_)"
      ],
      "execution_count": 2,
      "outputs": [
        {
          "output_type": "stream",
          "text": [
            "The ... det\n",
            "22-year ... npadvmod\n",
            "- ... punct\n",
            "old ... nsubj\n",
            "recently ... advmod\n",
            "won ... ROOT\n",
            "ATP ... compound\n",
            "Challenger ... compound\n",
            "tournament ... dobj\n",
            ". ... punct\n"
          ],
          "name": "stdout"
        }
      ]
    },
    {
      "cell_type": "code",
      "metadata": {
        "id": "2K5qXCpwc8-J",
        "outputId": "5c2842d7-7a89-4d46-fd63-3d783dae4b9e",
        "colab": {
          "base_uri": "https://localhost:8080/"
        }
      },
      "source": [
        "doc = nlp(\"Nagal won the first set.\")\n",
        "\n",
        "for tok in doc:\n",
        "  print(tok.text, \"...\", tok.dep_)"
      ],
      "execution_count": 3,
      "outputs": [
        {
          "output_type": "stream",
          "text": [
            "Nagal ... nsubj\n",
            "won ... ROOT\n",
            "the ... det\n",
            "first ... amod\n",
            "set ... dobj\n",
            ". ... punct\n"
          ],
          "name": "stdout"
        }
      ]
    },
    {
      "cell_type": "markdown",
      "metadata": {
        "id": "4o0OlXKIdc2J"
      },
      "source": [
        "# Start"
      ]
    },
    {
      "cell_type": "code",
      "metadata": {
        "id": "yPZ4JtG5dMGl"
      },
      "source": [
        "import re\n",
        "import pandas as pd\n",
        "import bs4\n",
        "import requests\n",
        "import spacy\n",
        "from spacy import displacy\n",
        "nlp = spacy.load('en_core_web_sm')\n",
        "\n",
        "from spacy.matcher import Matcher \n",
        "from spacy.tokens import Span \n",
        "\n",
        "import networkx as nx\n",
        "\n",
        "import matplotlib.pyplot as plt\n",
        "from tqdm import tqdm\n",
        "\n",
        "pd.set_option('display.max_colwidth', 200)\n",
        "%matplotlib inline"
      ],
      "execution_count": 4,
      "outputs": []
    },
    {
      "cell_type": "code",
      "metadata": {
        "id": "hFLx0RbedghH"
      },
      "source": [
        ""
      ],
      "execution_count": null,
      "outputs": []
    }
  ]
}